{
 "cells": [
  {
   "cell_type": "code",
   "execution_count": null,
   "id": "55e175a0",
   "metadata": {
    "vscode": {
     "languageId": "plaintext"
    }
   },
   "outputs": [],
   "source": [
    "# Task 5 - Data Analysis on CSV Files\n",
    "# Python Developer Internship Project\n",
    "\n",
    "import pandas as pd\n",
    "import matplotlib.pyplot as plt\n",
    "url = \"https://raw.githubusercontent.com/plotly/datasets/master/sales_success.csv\"\n",
    "df = pd.read_csv(url)\n",
    "print(\"First 5 rows of the dataset:\")\n",
    "print(df.head())\n",
    "print(\"\\nShape of the DataFrame:\", df.shape)\n",
    "print(\"\\nInfo about the dataset:\")\n",
    "print(df.info())\n",
    "print(\"\\nMissing values in each column:\")\n",
    "print(df.isnull().sum())\n",
    "print(\"\\nSummary statistics:\")\n",
    "print(df.describe())\n",
    "print(\"\\nTotal sales per product:\")\n",
    "product_sales = df.groupby(\"Product\")[\"Revenue\"].sum().sort_values(ascending=False)\n",
    "print(product_sales)\n",
    "plt.figure(figsize=(10,6))\n",
    "product_sales.plot(kind='bar', color='skyblue')\n",
    "plt.title(\"Total Revenue per Product\")\n",
    "plt.ylabel(\"Revenue\")\n",
    "plt.xlabel(\"Product\")\n",
    "plt.xticks(rotation=45)\n",
    "plt.tight_layout()\n",
    "plt.grid(axis='y')\n",
    "plt.show()\n",
    "high_sales = df[df[\"Revenue\"] > 5000]\n",
    "print(\"\\nSales with Revenue > 5000:\")\n",
    "print(high_sales)\n",
    "print(\"\\nUsing loc[] to access a row by label:\")\n",
    "print(df.loc[0])  # first row by index label\n",
    "print(\"\\nUsing iloc[] to access a row by index position:\")\n",
    "print(df.iloc[0])  # first row by position\n",
    "df.loc[0, \"Revenue\"] = None\n",
    "print(\"\\nAdded NaN value manually to demonstrate:\")\n",
    "print(df.head())\n",
    "df[\"Revenue\"].fillna(0, inplace=True)\n",
    "print(\"\\nAfter filling NaN with 0:\")\n",
    "print(df.head())\n",
    "\n"
   ]
  }
 ],
 "metadata": {
  "language_info": {
   "name": "python"
  }
 },
 "nbformat": 4,
 "nbformat_minor": 5
}
